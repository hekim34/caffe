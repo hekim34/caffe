{
 "cells": [
  {
   "cell_type": "code",
   "execution_count": 1,
   "metadata": {
    "collapsed": false
   },
   "outputs": [
    {
     "name": "stderr",
     "output_type": "stream",
     "text": [
      "/usr/local/lib/python2.7/dist-packages/matplotlib/font_manager.py:273: UserWarning: Matplotlib is building the font cache using fc-list. This may take a moment.\n",
      "  warnings.warn('Matplotlib is building the font cache using fc-list. This may take a moment.')\n"
     ]
    }
   ],
   "source": [
    "import numpy as np\n",
    "import matplotlib.pyplot as plt\n",
    "import time\n",
    "\n",
    "plt.rcParams['figure.figsize'] = (10, 10)\n",
    "plt.rcParams['image.interpolation'] = 'nearest'\n",
    "plt.rcParams['image.cmap'] = 'gray'\n",
    "\n",
    "# Make sure that caffe is on the python path:\n",
    "caffe_root = '../'  # this file is expected to be in {caffe_root}/examples\n",
    "import os\n",
    "os.chdir(caffe_root)\n",
    "import sys\n",
    "sys.path.insert(0, 'python')\n",
    "\n",
    "import caffe\n",
    "caffe.set_device(0)\n",
    "caffe.set_mode_gpu()\n",
    "\n",
    "from google.protobuf import text_format\n",
    "from caffe.proto import caffe_pb2"
   ]
  },
  {
   "cell_type": "code",
   "execution_count": 15,
   "metadata": {
    "collapsed": true
   },
   "outputs": [],
   "source": [
    "import tempfile\n",
    "\n",
    "\n",
    "def _create_file_from_netspec(netspec):\n",
    "    f = tempfile.NamedTemporaryFile(mode='w+', delete=False)\n",
    "    f.write(str(netspec.to_proto()))\n",
    "    return f.name\n",
    "\n",
    "\n",
    "'''\n",
    "    This is a utility function which computes the \n",
    "    complexity of a given network.\n",
    "    This is slightly modified version from the one written by @fsachin, \n",
    "    for his network profile ipython notebook\n",
    "'''\n",
    "def get_complexity(net=None, prototxt_file=None):\n",
    "    # One of netspec, or prototxt_path params should not be None\n",
    "    #assert (netspec is not None) or (prototxt_file is not None)\n",
    "\n",
    "#     if netspec is not None:\n",
    "#         prototxt_file = _create_file_from_netspec(netspec)\n",
    "#     net = caffe.Net(prototxt_file, caffe.TEST)\n",
    "\n",
    "    total_params = 0\n",
    "    total_flops = 0\n",
    "\n",
    "    net_params = caffe_pb2.NetParameter()\n",
    "    text_format.Merge(open(prototxt_file).read(), net_params)\n",
    "\n",
    "    for layer in net_params.layer:\n",
    "        if layer.name in net.params:\n",
    "\n",
    "            params = net.params[layer.name][0].data.size\n",
    "            # If convolution layer, multiply flops with receptive field\n",
    "            # i.e. #params * datawidth * dataheight\n",
    "            if layer.type == 'Convolution':  # 'conv' in layer:\n",
    "                data_width = net.blobs[layer.name].data.shape[2]\n",
    "                data_height = net.blobs[layer.name].data.shape[3]\n",
    "                flops = net.params[layer.name][0].data.size * data_width * data_height\n",
    "                # print >> sys.stderr, layer.name, params, flops\n",
    "            else:\n",
    "                flops = net.params[layer.name][0].data.size\n",
    "\n",
    "            total_params += params\n",
    "            total_flops += flops\n",
    "\n",
    "\n",
    "\n",
    "#     if netspec is not None:\n",
    "#         os.remove(prototxt_file)\n",
    "\n",
    "    return total_params, total_flops"
   ]
  },
  {
   "cell_type": "code",
   "execution_count": 16,
   "metadata": {
    "collapsed": false
   },
   "outputs": [],
   "source": [
    "model_def = '/home/youngwan/caffe/models/CIFAR-10/resnet_19_origin/cifar10_resnet_19_deploy.prototxt'\n",
    "model_weights = caffe_root + 'models/NVIDIA/Res_50/food_resnet_50_network__iter_200000.caffemodel'\n",
    "\n",
    "net = caffe.Net(model_def,      # defines the structure of the model\n",
    "                #model_weights,  # contains the trained weights\n",
    "                caffe.TEST)     # use test mode (e.g., don't perform dropout)"
   ]
  },
  {
   "cell_type": "code",
   "execution_count": 17,
   "metadata": {
    "collapsed": false
   },
   "outputs": [],
   "source": [
    "total_params, total_flops = get_complexity(net,model_def)"
   ]
  },
  {
   "cell_type": "code",
   "execution_count": 19,
   "metadata": {
    "collapsed": false
   },
   "outputs": [
    {
     "name": "stdout",
     "output_type": "stream",
     "text": [
      "total_param : 3446592, total_flops : 484139136\n"
     ]
    }
   ],
   "source": [
    "print \"total_param : %d, total_flops : %d\" %(total_params, total_flops)"
   ]
  },
  {
   "cell_type": "code",
   "execution_count": null,
   "metadata": {
    "collapsed": true
   },
   "outputs": [],
   "source": []
  }
 ],
 "metadata": {
  "kernelspec": {
   "display_name": "Python 2",
   "language": "python",
   "name": "python2"
  },
  "language_info": {
   "codemirror_mode": {
    "name": "ipython",
    "version": 2
   },
   "file_extension": ".py",
   "mimetype": "text/x-python",
   "name": "python",
   "nbconvert_exporter": "python",
   "pygments_lexer": "ipython2",
   "version": "2.7.6"
  }
 },
 "nbformat": 4,
 "nbformat_minor": 0
}
